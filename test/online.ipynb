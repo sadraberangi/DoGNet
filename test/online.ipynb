{
  "cells": [
    {
      "cell_type": "markdown",
      "metadata": {
        "colab_type": "text",
        "id": "view-in-github"
      },
      "source": [
        "<a href=\"https://colab.research.google.com/gist/sloanlance/c14af0280411650415b45bd7a29e867c/clone-private-github-repo-in-google-colab.ipynb\" target=\"_parent\"><img src=\"https://colab.research.google.com/assets/colab-badge.svg\" alt=\"Open In Colab\"/></a>"
      ]
    },
    {
      "cell_type": "markdown",
      "metadata": {
        "id": "96-CIx_nJhJq"
      },
      "source": [
        "# Clone private GitHub repo in Google Colab"
      ]
    },
    {
      "cell_type": "markdown",
      "metadata": {
        "id": "mWDZUKixkLFb"
      },
      "source": [
        "Based on the article at the following address, with modifications: https://medium.com/@purba0101/how-to-clone-private-github-repo-in-google-colab-using-ssh-77384cfef18f"
      ]
    },
    {
      "cell_type": "code",
      "execution_count": null,
      "metadata": {
        "id": "6ryFWs31Zk-4"
      },
      "outputs": [],
      "source": [
        "\n",
        "# Step 1: Generate a new SSH key\n",
        "# DO NOT give a passphrase when prompted! (-N should prevent that)\n",
        "!ssh-keygen -t rsa -b 4096 -f ~/.ssh/id_rsa -N ''\n",
        "\n",
        "# Step 2: Add SSH key fingerprints\n",
        "!ssh-keyscan -t rsa github.com >> ~/.ssh/known_hosts\n",
        "\n",
        "# Step 3: Get the SSH public key\n",
        "!cat ~/.ssh/id_rsa.pub"
      ]
    },
    {
      "cell_type": "code",
      "execution_count": null,
      "metadata": {},
      "outputs": [],
      "source": [
        "# Step 3.1: Test SSH key\n",
        "!ssh -T git@github.com\n",
        "\n",
        "# Clone a private repository from GitHub\n",
        "!git clone git@github.com:sadraberangi/DoGNet.git\n",
        "!cd DoGNet"
      ]
    }
  ],
  "metadata": {
    "colab": {
      "include_colab_link": true,
      "provenance": []
    },
    "kernelspec": {
      "display_name": "Python 3",
      "name": "python3"
    }
  },
  "nbformat": 4,
  "nbformat_minor": 0
}
